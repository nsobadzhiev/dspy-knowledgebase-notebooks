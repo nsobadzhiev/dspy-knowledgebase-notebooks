{
 "cells": [
  {
   "cell_type": "code",
   "execution_count": null,
   "metadata": {},
   "outputs": [],
   "source": [
    "!python -m pip install -r requirements.txt"
   ]
  },
  {
   "cell_type": "markdown",
   "metadata": {},
   "source": [
    "## Extracting knowledgebase\n",
    "\n",
    "This example will extract textual data from the curl command's man page. Later, we will build an LLM agent that's going to answer questions about using curl and its options.\n",
    "Man pages are textual, so they are not difficult to process. However, we will do some amount of processing to split it into manageable pieces."
   ]
  },
  {
   "cell_type": "code",
   "execution_count": 2,
   "metadata": {},
   "outputs": [
    {
     "name": "stdout",
     "output_type": "stream",
     "text": [
      "curl(1)                           curl Manual                          curl(1)\n",
      "\n",
      "NAME\n",
      "       curl - transfer a URL\n",
      "\n",
      "SYNOPSIS\n",
      "       curl [options / URLs]\n",
      "\n",
      "DESCRIPTION\n",
      "       curl is a tool for transferring data from or to a server using URLs. It\n",
      "       supports these protocols: DICT, FILE, FTP, FTPS, GOPHER, GOPHERS, HTTP,\n",
      "       HTTPS, IMAP, IMAPS, LDAP, LDAPS, MQTT, POP3, POP3S, RTMP, RTMPS, RTSP\n"
     ]
    }
   ],
   "source": [
    "# load the file into memory\n",
    "file_name = './man_curl.txt'\n",
    "with open(file_name, 'r') as text_file:\n",
    "    contents = text_file.read()\n",
    "    print(contents[:400])"
   ]
  },
  {
   "cell_type": "markdown",
   "metadata": {},
   "source": [
    "## Chunk splitting\n",
    "\n",
    "Since these chunks will be fed to an LLM as context, some take needs to be taken with the boundries between chunks. For instance, if a chunk ends mid-sentence or mid-word, some important infomation might be omitted and the resulting context might not be enough for an LLM to answer a question.\n",
    "Similarly, if the chunk is synthactically correct, but it's not enough to convey the entire semantic on a particular part of the text, it might also degrade the quality of the context, and therefore answers.\n",
    "\n",
    "### Semantic text splitter\n",
    "\n",
    "The following, rather simplistic approach, mainly tackles the first problem above. The `semantic_text_splitter` library will make sure the text is split in roughtly sized pieces and make sure the boundries are ones that make the chunks still meaningful."
   ]
  },
  {
   "cell_type": "code",
   "execution_count": 5,
   "metadata": {},
   "outputs": [
    {
     "name": "stdout",
     "output_type": "stream",
     "text": [
      "First chunk: curl(1)                           curl Manual                          curl(1)\n",
      "\n",
      "NAME\n",
      "       curl - transfer a URL\n",
      "\n",
      "SYNOPSIS\n",
      "       curl [options / URLs]\n",
      "\n",
      "DESCRIPTION\n",
      "       curl is a tool for transferring data from or to a server using URLs. It\n",
      "       supports these protocols: DICT, FILE, FTP, FTPS, GOPHER, GOPHERS, HTTP,\n",
      "       HTTPS, IMAP, IMAPS, LDAP, LDAPS, MQTT, POP3, POP3S, RTMP, RTMPS, RTSP,\n",
      "       SCP, SFTP, SMB, SMBS, SMTP, SMTPS, TELNET, TFTP, WS and WSS.\n",
      "\n",
      "       curl is powered by libcurl for all transfer-related features. See\n",
      "       libcurl(3) for details.\n",
      "\n",
      "URL\n",
      "       The URL syntax is protocol-dependent. You find a detailed description\n",
      "       in RFC 3986.\n",
      "\n",
      "       If you provide a URL without a leading protocol:// scheme, curl guesses\n",
      "       what protocol you want. It then defaults to HTTP but assumes others\n",
      "       based on often-used host name prefixes. For example, for host names\n",
      "       starting with \"ftp.\" curl assumes you want FTP.\n",
      "\n",
      "       You can specify any amount of URLs on the command line. They are\n",
      "       fetched in a sequential manner in the specified order unless you use\n",
      "       -Z, --parallel. You can specify command line options and URLs mixed and\n",
      "       in any order on the command line.\n",
      "\n",
      "       curl attempts to reuse connections when doing multiple transfers, so\n",
      "       that getting many files from the same server do not use multiple\n",
      "       connects and setup handshakes. This improves speed. Connection reuse\n",
      "       can only be done for URLs specified for a single command line\n",
      "       invocation and cannot be performed between separate curl runs.\n",
      "\n",
      "       Provide an IPv6 zone id in the URL with an escaped percentage sign.\n",
      "       Like in\n",
      "\n",
      "         \"http://[fe80::3%25eth0]/\"\n",
      "\n",
      "       Everything provided on the command line that is not a command line\n",
      "       option or its argument, curl assumes is a URL and treats it as such.\n"
     ]
    }
   ],
   "source": [
    "from semantic_text_splitter import TextSplitter\n",
    "\n",
    "# Maximum number of characters in a chunk\n",
    "max_characters = 2000\n",
    "# Optionally can also have the splitter not trim whitespace for you\n",
    "splitter = TextSplitter()\n",
    "\n",
    "chunks = splitter.chunks(contents, max_characters)\n",
    "print(f'First chunk: {chunks[0]}')"
   ]
  }
 ],
 "metadata": {
  "kernelspec": {
   "display_name": ".venv",
   "language": "python",
   "name": "python3"
  },
  "language_info": {
   "codemirror_mode": {
    "name": "ipython",
    "version": 3
   },
   "file_extension": ".py",
   "mimetype": "text/x-python",
   "name": "python",
   "nbconvert_exporter": "python",
   "pygments_lexer": "ipython3",
   "version": "3.11.5"
  }
 },
 "nbformat": 4,
 "nbformat_minor": 2
}
