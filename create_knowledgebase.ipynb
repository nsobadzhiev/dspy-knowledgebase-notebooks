{
 "cells": [
  {
   "cell_type": "code",
   "execution_count": 1,
   "metadata": {},
   "outputs": [
    {
     "name": "stdout",
     "output_type": "stream",
     "text": [
      "Requirement already satisfied: requests in ./.venv/lib/python3.11/site-packages (from -r requirements.txt (line 1)) (2.31.0)\n",
      "Requirement already satisfied: chromadb in ./.venv/lib/python3.11/site-packages (from -r requirements.txt (line 2)) (0.4.24)\n",
      "Requirement already satisfied: pypdf in ./.venv/lib/python3.11/site-packages (from -r requirements.txt (line 3)) (4.1.0)\n",
      "Requirement already satisfied: charset-normalizer<4,>=2 in ./.venv/lib/python3.11/site-packages (from requests->-r requirements.txt (line 1)) (3.3.2)\n",
      "Requirement already satisfied: idna<4,>=2.5 in ./.venv/lib/python3.11/site-packages (from requests->-r requirements.txt (line 1)) (3.6)\n",
      "Requirement already satisfied: urllib3<3,>=1.21.1 in ./.venv/lib/python3.11/site-packages (from requests->-r requirements.txt (line 1)) (2.2.1)\n",
      "Requirement already satisfied: certifi>=2017.4.17 in ./.venv/lib/python3.11/site-packages (from requests->-r requirements.txt (line 1)) (2024.2.2)\n",
      "Requirement already satisfied: build>=1.0.3 in ./.venv/lib/python3.11/site-packages (from chromadb->-r requirements.txt (line 2)) (1.1.1)\n",
      "Requirement already satisfied: pydantic>=1.9 in ./.venv/lib/python3.11/site-packages (from chromadb->-r requirements.txt (line 2)) (2.6.4)\n",
      "Requirement already satisfied: chroma-hnswlib==0.7.3 in ./.venv/lib/python3.11/site-packages (from chromadb->-r requirements.txt (line 2)) (0.7.3)\n",
      "Requirement already satisfied: fastapi>=0.95.2 in ./.venv/lib/python3.11/site-packages (from chromadb->-r requirements.txt (line 2)) (0.110.0)\n",
      "Requirement already satisfied: uvicorn>=0.18.3 in ./.venv/lib/python3.11/site-packages (from uvicorn[standard]>=0.18.3->chromadb->-r requirements.txt (line 2)) (0.28.1)\n",
      "Requirement already satisfied: numpy>=1.22.5 in ./.venv/lib/python3.11/site-packages (from chromadb->-r requirements.txt (line 2)) (1.26.4)\n",
      "Requirement already satisfied: posthog>=2.4.0 in ./.venv/lib/python3.11/site-packages (from chromadb->-r requirements.txt (line 2)) (3.5.0)\n",
      "Requirement already satisfied: typing-extensions>=4.5.0 in ./.venv/lib/python3.11/site-packages (from chromadb->-r requirements.txt (line 2)) (4.10.0)\n",
      "Requirement already satisfied: pulsar-client>=3.1.0 in ./.venv/lib/python3.11/site-packages (from chromadb->-r requirements.txt (line 2)) (3.4.0)\n",
      "Requirement already satisfied: onnxruntime>=1.14.1 in ./.venv/lib/python3.11/site-packages (from chromadb->-r requirements.txt (line 2)) (1.17.1)\n",
      "Requirement already satisfied: opentelemetry-api>=1.2.0 in ./.venv/lib/python3.11/site-packages (from chromadb->-r requirements.txt (line 2)) (1.23.0)\n",
      "Requirement already satisfied: opentelemetry-exporter-otlp-proto-grpc>=1.2.0 in ./.venv/lib/python3.11/site-packages (from chromadb->-r requirements.txt (line 2)) (1.23.0)\n",
      "Requirement already satisfied: opentelemetry-instrumentation-fastapi>=0.41b0 in ./.venv/lib/python3.11/site-packages (from chromadb->-r requirements.txt (line 2)) (0.44b0)\n",
      "Requirement already satisfied: opentelemetry-sdk>=1.2.0 in ./.venv/lib/python3.11/site-packages (from chromadb->-r requirements.txt (line 2)) (1.23.0)\n",
      "Requirement already satisfied: tokenizers>=0.13.2 in ./.venv/lib/python3.11/site-packages (from chromadb->-r requirements.txt (line 2)) (0.15.2)\n",
      "Requirement already satisfied: pypika>=0.48.9 in ./.venv/lib/python3.11/site-packages (from chromadb->-r requirements.txt (line 2)) (0.48.9)\n",
      "Requirement already satisfied: tqdm>=4.65.0 in ./.venv/lib/python3.11/site-packages (from chromadb->-r requirements.txt (line 2)) (4.66.2)\n",
      "Requirement already satisfied: overrides>=7.3.1 in ./.venv/lib/python3.11/site-packages (from chromadb->-r requirements.txt (line 2)) (7.7.0)\n",
      "Requirement already satisfied: importlib-resources in ./.venv/lib/python3.11/site-packages (from chromadb->-r requirements.txt (line 2)) (6.3.1)\n",
      "Requirement already satisfied: grpcio>=1.58.0 in ./.venv/lib/python3.11/site-packages (from chromadb->-r requirements.txt (line 2)) (1.62.1)\n",
      "Requirement already satisfied: bcrypt>=4.0.1 in ./.venv/lib/python3.11/site-packages (from chromadb->-r requirements.txt (line 2)) (4.1.2)\n",
      "Requirement already satisfied: typer>=0.9.0 in ./.venv/lib/python3.11/site-packages (from chromadb->-r requirements.txt (line 2)) (0.9.0)\n",
      "Requirement already satisfied: kubernetes>=28.1.0 in ./.venv/lib/python3.11/site-packages (from chromadb->-r requirements.txt (line 2)) (29.0.0)\n",
      "Requirement already satisfied: tenacity>=8.2.3 in ./.venv/lib/python3.11/site-packages (from chromadb->-r requirements.txt (line 2)) (8.2.3)\n",
      "Requirement already satisfied: PyYAML>=6.0.0 in ./.venv/lib/python3.11/site-packages (from chromadb->-r requirements.txt (line 2)) (6.0.1)\n",
      "Requirement already satisfied: mmh3>=4.0.1 in ./.venv/lib/python3.11/site-packages (from chromadb->-r requirements.txt (line 2)) (4.1.0)\n",
      "Requirement already satisfied: orjson>=3.9.12 in ./.venv/lib/python3.11/site-packages (from chromadb->-r requirements.txt (line 2)) (3.9.15)\n",
      "Requirement already satisfied: packaging>=19.0 in ./.venv/lib/python3.11/site-packages (from build>=1.0.3->chromadb->-r requirements.txt (line 2)) (24.0)\n",
      "Requirement already satisfied: pyproject_hooks in ./.venv/lib/python3.11/site-packages (from build>=1.0.3->chromadb->-r requirements.txt (line 2)) (1.0.0)\n",
      "Requirement already satisfied: starlette<0.37.0,>=0.36.3 in ./.venv/lib/python3.11/site-packages (from fastapi>=0.95.2->chromadb->-r requirements.txt (line 2)) (0.36.3)\n",
      "Requirement already satisfied: six>=1.9.0 in ./.venv/lib/python3.11/site-packages (from kubernetes>=28.1.0->chromadb->-r requirements.txt (line 2)) (1.16.0)\n",
      "Requirement already satisfied: python-dateutil>=2.5.3 in ./.venv/lib/python3.11/site-packages (from kubernetes>=28.1.0->chromadb->-r requirements.txt (line 2)) (2.9.0.post0)\n",
      "Requirement already satisfied: google-auth>=1.0.1 in ./.venv/lib/python3.11/site-packages (from kubernetes>=28.1.0->chromadb->-r requirements.txt (line 2)) (2.28.2)\n",
      "Requirement already satisfied: websocket-client!=0.40.0,!=0.41.*,!=0.42.*,>=0.32.0 in ./.venv/lib/python3.11/site-packages (from kubernetes>=28.1.0->chromadb->-r requirements.txt (line 2)) (1.7.0)\n",
      "Requirement already satisfied: requests-oauthlib in ./.venv/lib/python3.11/site-packages (from kubernetes>=28.1.0->chromadb->-r requirements.txt (line 2)) (1.4.0)\n",
      "Requirement already satisfied: oauthlib>=3.2.2 in ./.venv/lib/python3.11/site-packages (from kubernetes>=28.1.0->chromadb->-r requirements.txt (line 2)) (3.2.2)\n",
      "Requirement already satisfied: coloredlogs in ./.venv/lib/python3.11/site-packages (from onnxruntime>=1.14.1->chromadb->-r requirements.txt (line 2)) (15.0.1)\n",
      "Requirement already satisfied: flatbuffers in ./.venv/lib/python3.11/site-packages (from onnxruntime>=1.14.1->chromadb->-r requirements.txt (line 2)) (24.3.7)\n",
      "Requirement already satisfied: protobuf in ./.venv/lib/python3.11/site-packages (from onnxruntime>=1.14.1->chromadb->-r requirements.txt (line 2)) (4.25.3)\n",
      "Requirement already satisfied: sympy in ./.venv/lib/python3.11/site-packages (from onnxruntime>=1.14.1->chromadb->-r requirements.txt (line 2)) (1.12)\n",
      "Requirement already satisfied: deprecated>=1.2.6 in ./.venv/lib/python3.11/site-packages (from opentelemetry-api>=1.2.0->chromadb->-r requirements.txt (line 2)) (1.2.14)\n",
      "Requirement already satisfied: importlib-metadata<7.0,>=6.0 in ./.venv/lib/python3.11/site-packages (from opentelemetry-api>=1.2.0->chromadb->-r requirements.txt (line 2)) (6.11.0)\n",
      "Requirement already satisfied: googleapis-common-protos~=1.52 in ./.venv/lib/python3.11/site-packages (from opentelemetry-exporter-otlp-proto-grpc>=1.2.0->chromadb->-r requirements.txt (line 2)) (1.63.0)\n",
      "Requirement already satisfied: opentelemetry-exporter-otlp-proto-common==1.23.0 in ./.venv/lib/python3.11/site-packages (from opentelemetry-exporter-otlp-proto-grpc>=1.2.0->chromadb->-r requirements.txt (line 2)) (1.23.0)\n",
      "Requirement already satisfied: opentelemetry-proto==1.23.0 in ./.venv/lib/python3.11/site-packages (from opentelemetry-exporter-otlp-proto-grpc>=1.2.0->chromadb->-r requirements.txt (line 2)) (1.23.0)\n",
      "Requirement already satisfied: opentelemetry-instrumentation-asgi==0.44b0 in ./.venv/lib/python3.11/site-packages (from opentelemetry-instrumentation-fastapi>=0.41b0->chromadb->-r requirements.txt (line 2)) (0.44b0)\n",
      "Requirement already satisfied: opentelemetry-instrumentation==0.44b0 in ./.venv/lib/python3.11/site-packages (from opentelemetry-instrumentation-fastapi>=0.41b0->chromadb->-r requirements.txt (line 2)) (0.44b0)\n",
      "Requirement already satisfied: opentelemetry-semantic-conventions==0.44b0 in ./.venv/lib/python3.11/site-packages (from opentelemetry-instrumentation-fastapi>=0.41b0->chromadb->-r requirements.txt (line 2)) (0.44b0)\n",
      "Requirement already satisfied: opentelemetry-util-http==0.44b0 in ./.venv/lib/python3.11/site-packages (from opentelemetry-instrumentation-fastapi>=0.41b0->chromadb->-r requirements.txt (line 2)) (0.44b0)\n",
      "Requirement already satisfied: setuptools>=16.0 in ./.venv/lib/python3.11/site-packages (from opentelemetry-instrumentation==0.44b0->opentelemetry-instrumentation-fastapi>=0.41b0->chromadb->-r requirements.txt (line 2)) (68.1.2)\n",
      "Requirement already satisfied: wrapt<2.0.0,>=1.0.0 in ./.venv/lib/python3.11/site-packages (from opentelemetry-instrumentation==0.44b0->opentelemetry-instrumentation-fastapi>=0.41b0->chromadb->-r requirements.txt (line 2)) (1.16.0)\n",
      "Requirement already satisfied: asgiref~=3.0 in ./.venv/lib/python3.11/site-packages (from opentelemetry-instrumentation-asgi==0.44b0->opentelemetry-instrumentation-fastapi>=0.41b0->chromadb->-r requirements.txt (line 2)) (3.7.2)\n",
      "Requirement already satisfied: monotonic>=1.5 in ./.venv/lib/python3.11/site-packages (from posthog>=2.4.0->chromadb->-r requirements.txt (line 2)) (1.6)\n",
      "Requirement already satisfied: backoff>=1.10.0 in ./.venv/lib/python3.11/site-packages (from posthog>=2.4.0->chromadb->-r requirements.txt (line 2)) (2.2.1)\n",
      "Requirement already satisfied: annotated-types>=0.4.0 in ./.venv/lib/python3.11/site-packages (from pydantic>=1.9->chromadb->-r requirements.txt (line 2)) (0.6.0)\n",
      "Requirement already satisfied: pydantic-core==2.16.3 in ./.venv/lib/python3.11/site-packages (from pydantic>=1.9->chromadb->-r requirements.txt (line 2)) (2.16.3)\n",
      "Requirement already satisfied: huggingface_hub<1.0,>=0.16.4 in ./.venv/lib/python3.11/site-packages (from tokenizers>=0.13.2->chromadb->-r requirements.txt (line 2)) (0.21.4)\n",
      "Requirement already satisfied: click<9.0.0,>=7.1.1 in ./.venv/lib/python3.11/site-packages (from typer>=0.9.0->chromadb->-r requirements.txt (line 2)) (8.1.7)\n",
      "Requirement already satisfied: h11>=0.8 in ./.venv/lib/python3.11/site-packages (from uvicorn>=0.18.3->uvicorn[standard]>=0.18.3->chromadb->-r requirements.txt (line 2)) (0.14.0)\n",
      "Requirement already satisfied: httptools>=0.5.0 in ./.venv/lib/python3.11/site-packages (from uvicorn[standard]>=0.18.3->chromadb->-r requirements.txt (line 2)) (0.6.1)\n",
      "Requirement already satisfied: python-dotenv>=0.13 in ./.venv/lib/python3.11/site-packages (from uvicorn[standard]>=0.18.3->chromadb->-r requirements.txt (line 2)) (1.0.1)\n",
      "Requirement already satisfied: uvloop!=0.15.0,!=0.15.1,>=0.14.0 in ./.venv/lib/python3.11/site-packages (from uvicorn[standard]>=0.18.3->chromadb->-r requirements.txt (line 2)) (0.19.0)\n",
      "Requirement already satisfied: watchfiles>=0.13 in ./.venv/lib/python3.11/site-packages (from uvicorn[standard]>=0.18.3->chromadb->-r requirements.txt (line 2)) (0.21.0)\n",
      "Requirement already satisfied: websockets>=10.4 in ./.venv/lib/python3.11/site-packages (from uvicorn[standard]>=0.18.3->chromadb->-r requirements.txt (line 2)) (12.0)\n",
      "Requirement already satisfied: cachetools<6.0,>=2.0.0 in ./.venv/lib/python3.11/site-packages (from google-auth>=1.0.1->kubernetes>=28.1.0->chromadb->-r requirements.txt (line 2)) (5.3.3)\n",
      "Requirement already satisfied: pyasn1-modules>=0.2.1 in ./.venv/lib/python3.11/site-packages (from google-auth>=1.0.1->kubernetes>=28.1.0->chromadb->-r requirements.txt (line 2)) (0.3.0)\n",
      "Requirement already satisfied: rsa<5,>=3.1.4 in ./.venv/lib/python3.11/site-packages (from google-auth>=1.0.1->kubernetes>=28.1.0->chromadb->-r requirements.txt (line 2)) (4.9)\n",
      "Requirement already satisfied: filelock in ./.venv/lib/python3.11/site-packages (from huggingface_hub<1.0,>=0.16.4->tokenizers>=0.13.2->chromadb->-r requirements.txt (line 2)) (3.13.1)\n",
      "Requirement already satisfied: fsspec>=2023.5.0 in ./.venv/lib/python3.11/site-packages (from huggingface_hub<1.0,>=0.16.4->tokenizers>=0.13.2->chromadb->-r requirements.txt (line 2)) (2024.3.1)\n",
      "Requirement already satisfied: zipp>=0.5 in ./.venv/lib/python3.11/site-packages (from importlib-metadata<7.0,>=6.0->opentelemetry-api>=1.2.0->chromadb->-r requirements.txt (line 2)) (3.18.1)\n",
      "Requirement already satisfied: anyio<5,>=3.4.0 in ./.venv/lib/python3.11/site-packages (from starlette<0.37.0,>=0.36.3->fastapi>=0.95.2->chromadb->-r requirements.txt (line 2)) (4.3.0)\n",
      "Requirement already satisfied: humanfriendly>=9.1 in ./.venv/lib/python3.11/site-packages (from coloredlogs->onnxruntime>=1.14.1->chromadb->-r requirements.txt (line 2)) (10.0)\n",
      "Requirement already satisfied: mpmath>=0.19 in ./.venv/lib/python3.11/site-packages (from sympy->onnxruntime>=1.14.1->chromadb->-r requirements.txt (line 2)) (1.3.0)\n",
      "Requirement already satisfied: sniffio>=1.1 in ./.venv/lib/python3.11/site-packages (from anyio<5,>=3.4.0->starlette<0.37.0,>=0.36.3->fastapi>=0.95.2->chromadb->-r requirements.txt (line 2)) (1.3.1)\n",
      "Requirement already satisfied: pyasn1<0.6.0,>=0.4.6 in ./.venv/lib/python3.11/site-packages (from pyasn1-modules>=0.2.1->google-auth>=1.0.1->kubernetes>=28.1.0->chromadb->-r requirements.txt (line 2)) (0.5.1)\n"
     ]
    }
   ],
   "source": [
    "! python -m pip install -r requirements.txt"
   ]
  },
  {
   "cell_type": "code",
   "execution_count": 1,
   "metadata": {},
   "outputs": [],
   "source": [
    "# Chroma client\n",
    "import chromadb\n",
    "chroma_client = chromadb.PersistentClient()"
   ]
  },
  {
   "cell_type": "code",
   "execution_count": 2,
   "metadata": {},
   "outputs": [
    {
     "data": {
      "text/plain": [
       "Collection(name=man_data)"
      ]
     },
     "execution_count": 2,
     "metadata": {},
     "output_type": "execute_result"
    }
   ],
   "source": [
    "# create a test collection\n",
    "collection_name = 'man_data'\n",
    "chroma_client.create_collection(collection_name)"
   ]
  },
  {
   "cell_type": "code",
   "execution_count": 3,
   "metadata": {},
   "outputs": [],
   "source": [
    "test_collection = chroma_client.get_collection(collection_name);"
   ]
  },
  {
   "cell_type": "code",
   "execution_count": 4,
   "metadata": {},
   "outputs": [
    {
     "data": {
      "text/plain": [
       "['curl(1)                           curl Manual                          curl(1)\\n\\nNAME\\n       curl - transfer a URL\\n\\nSYNOPSIS\\n       curl [options / URLs]\\n\\nDESCRIPTION\\n       curl is a tool for transferring data from or to a server using URLs. It\\n       supports these protocols: DICT, FILE, FTP, FTPS, GOPHER, GOPHERS, HTTP,\\n       HTTPS, IMAP, IMAPS, LDAP, LDAPS, MQTT, POP3, POP3S, RTMP, RTMPS, RTSP,\\n       SCP, SFTP, SMB, SMBS, SMTP, SMTPS, TELNET, TFTP, WS and WSS.\\n\\n       curl is powered by libcurl for all transfer-related features. See\\n       libcurl(3) for details.\\n\\nURL\\n       The URL syntax is protocol-dependent. You find a detailed description\\n       in RFC 3986.\\n\\n       If you provide a URL without a leading protocol:// scheme, curl guesses\\n       what protocol you want. It then defaults to HTTP but assumes others\\n       based on often-used host name prefixes. For example, for host names\\n       starting with \"ftp.\" curl assumes you want FTP.\\n\\n       You can specify any amount of URLs on the command line. They are\\n       fetched in a sequential manner in the specified order unless you use\\n       -Z, --parallel. You can specify command line options and URLs mixed and\\n       in any order on the command line.\\n\\n       curl attempts to reuse connections when doing multiple transfers, so\\n       that getting many files from the same server do not use multiple\\n       connects and setup handshakes. This improves speed. Connection reuse\\n       can only be done for URLs specified for a single command line\\n       invocation and cannot be performed between separate curl runs.\\n\\n       Provide an IPv6 zone id in the URL with an escaped percentage sign.\\n       Like in\\n\\n         \"http://[fe80::3%25eth0]/\"\\n\\n       Everything provided on the command line that is not a command line\\n       option or its argument, curl assumes is a URL and treats it as such.',\n",
       " 'GLOBBING\\n       You can specify multiple URLs or parts of URLs by writing lists within\\n       braces or ranges within brackets. We call this \"globbing\".\\n\\n       Provide a list with three different names like this:\\n\\n         \"http://site.{one,two,three}.com\"\\n\\n       or you can get sequences of alphanumeric series by using [] as in:\\n\\n         \"ftp://ftp.example.com/file[1-100].txt\"\\n\\n         \"ftp://ftp.example.com/file[001-100].txt\"    (with leading zeros)\\n\\n         \"ftp://ftp.example.com/file[a-z].txt\"\\n\\n       Nested sequences are not supported, but you can use several ones next\\n       to each other:\\n\\n         \"http://example.com/archive[1996-1999]/vol[1-4]/part{a,b,c}.html\"\\n\\n       You can specify a step counter for the ranges to get every Nth number\\n       or letter:\\n\\n         \"http://example.com/file[1-100:10].txt\"\\n\\n         \"http://example.com/file[a-z:2].txt\"\\n\\n       When using [] or {} sequences when invoked from a command line prompt,\\n       you probably have to put the full URL within double quotes to avoid the\\n       shell from interfering with it. This also goes for other characters\\n       treated special, like for example \\'&\\', \\'?\\' and \\'*\\'.\\n\\n       Switch off globbing with -g, --globoff.\\n\\nVARIABLES\\n       curl supports command line variables (added in 8.3.0). Set variables\\n       with --variable name=content or --variable name@file (where \"file\" can\\n       be stdin if set to a single dash (-)).\\n\\n       Variable contents can expanded in option parameters using \"{{name}}\"\\n       (without the quotes) if the option name is prefixed with \"--expand-\".\\n       This gets the contents of the variable \"name\" inserted, or a blank if\\n       the name does not exist as a variable. Insert \"{{\" verbatim in the\\n       string by prefixing it with a backslash, like \"\\\\{{\".',\n",
       " 'You an access and expand environment variables by first importing them.\\n       You can select to either require the environment variable to be set or\\n       you can provide a default value in case it is not already set. Plain\\n       --variable %name imports the variable called \\'name\\' but exits with an\\n       error if that environment variable is not already set. To provide a\\n       default value if it is not set, use --variable %name=content or\\n       --variable %name@content.\\n\\n       Example. Get the USER environment variable into the URL, fail if USER\\n       is not set:\\n\\n        --variable \\'%USER\\'\\n        --expand-url = \"https://example.com/api/{{USER}}/method\"\\n\\n       When expanding variables, curl supports a set of functions that can\\n       make the variable contents more convenient to use. It can trim leading\\n       and trailing white space with trim, it can output the contents as a\\n       JSON quoted string with json, URL encode the string with url or base64\\n       encode it with b64. You apply function to a variable expansion, add\\n       them colon separated to the right side of the variable. Variable\\n       content holding null bytes that are not encoded when expanded cause\\n       error.\\n\\n       Example: get the contents of a file called $HOME/.secret into a\\n       variable called \"fix\". Make sure that the content is trimmed and\\n       percent-encoded sent as POST data:\\n\\n         --variable %HOME\\n         --expand-variable fix@{{HOME}}/.secret\\n         --expand-data \"{{fix:trim:url}}\"\\n         https://example.com/\\n\\n       Command line variables and expansions were added in in 8.3.0.\\n\\nOUTPUT\\n       If not told otherwise, curl writes the received data to stdout. It can\\n       be instructed to instead save that data into a local file, using the\\n       -o, --output or -O, --remote-name options. If curl is given multiple\\n       URLs to transfer on the command line, it similarly needs multiple\\n       options for where to save them.',\n",
       " 'curl does not parse or otherwise \"understand\" the content it gets or\\n       writes as output. It does no encoding or decoding, unless explicitly\\n       asked to with dedicated command line options.\\n\\nPROTOCOLS\\n       curl supports numerous protocols, or put in URL terms: schemes. Your\\n       particular build may not support them all.\\n\\n       DICT   Lets you lookup words using online dictionaries.\\n\\n       FILE   Read or write local files. curl does not support accessing\\n              file:// URL remotely, but when running on Microsoft Windows\\n              using the native UNC approach works.\\n\\n       FTP(S) curl supports the File Transfer Protocol with a lot of tweaks\\n              and levers. With or without using TLS.\\n\\n       GOPHER(S)\\n              Retrieve files.\\n\\n       HTTP(S)\\n              curl supports HTTP with numerous options and variations. It can\\n              speak HTTP version 0.9, 1.0, 1.1, 2 and 3 depending on build\\n              options and the correct command line options.\\n\\n       IMAP(S)\\n              Using the mail reading protocol, curl can \"download\" emails for\\n              you. With or without using TLS.\\n\\n       LDAP(S)\\n              curl can do directory lookups for you, with or without TLS.\\n\\n       MQTT   curl supports MQTT version 3. Downloading over MQTT equals\\n              \"subscribe\" to a topic while uploading/posting equals \"publish\"\\n              on a topic. MQTT over TLS is not supported (yet).\\n\\n       POP3(S)\\n              Downloading from a pop3 server means getting a mail. With or\\n              without using TLS.\\n\\n       RTMP(S)\\n              The Realtime Messaging Protocol is primarily used to serve\\n              streaming media and curl can download it.\\n\\n       RTSP   curl supports RTSP 1.0 downloads.\\n\\n       SCP    curl supports SSH version 2 scp transfers.\\n\\n       SFTP   curl supports SFTP (draft 5) done over SSH version 2.\\n\\n       SMB(S) curl supports SMB version 1 for upload and download.',\n",
       " 'SMTP(S)\\n              Uploading contents to an SMTP server means sending an email.\\n              With or without TLS.\\n\\n       TELNET Telling curl to fetch a telnet URL starts an interactive session\\n              where it sends what it reads on stdin and outputs what the\\n              server sends it.\\n\\n       TFTP   curl can do TFTP downloads and uploads.\\n\\nPROGRESS METER\\n       curl normally displays a progress meter during operations, indicating\\n       the amount of transferred data, transfer speeds and estimated time\\n       left, etc. The progress meter displays the transfer rate in bytes per\\n       second. The suffixes (k, M, G, T, P) are 1024 based. For example 1k is\\n       1024 bytes. 1M is 1048576 bytes.\\n\\n       curl displays this data to the terminal by default, so if you invoke\\n       curl to do an operation and it is about to write data to the terminal,\\n       it disables the progress meter as otherwise it would mess up the output\\n       mixing progress meter and response data.\\n\\n       If you want a progress meter for HTTP POST or PUT requests, you need to\\n       redirect the response output to a file, using shell redirect (>), -o,\\n       --output or similar.\\n\\n       This does not apply to FTP upload as that operation does not spit out\\n       any response data to the terminal.\\n\\n       If you prefer a progress \"bar\" instead of the regular meter, -#,\\n       --progress-bar is your friend. You can also disable the progress meter\\n       completely with the -s, --silent option.\\n\\nVERSION\\n       This man page describes curl 8.4.0. If you use a later version, chances\\n       are this man page does not fully document it. If you use an earlier\\n       version, this document tries to include version information about which\\n       specific version that introduced changes.\\n\\n       You can always learn which the latest curl version is by running\\n\\n         curl https://curl.se/info',\n",
       " 'The online version of this man page is always showing the latest\\n       incarnation: https://curl.se/docs/manpage.html\\n\\nOPTIONS\\n       Options start with one or two dashes. Many of the options require an\\n       additional value next to them. If provided text does not start with a\\n       dash, it is presumed to be and treated as a URL.\\n\\n       The short \"single-dash\" form of the options, -d for example, may be\\n       used with or without a space between it and its value, although a space\\n       is a recommended separator. The long \"double-dash\" form, -d, --data for\\n       example, requires a space between it and its value.\\n\\n       Short version options that do not need any additional values can be\\n       used immediately next to each other, like for example you can specify\\n       all the options -O, -L and -v at once as -OLv.\\n\\n       In general, all boolean options are enabled with --option and yet again\\n       disabled with --no-option. That is, you use the same option name but\\n       prefix it with \"no-\". However, in this list we mostly only list and\\n       show the --option version of them.\\n\\n       When -:, --next is used, it resets the parser state and you start again\\n       with a clean option state, except for the options that are \"global\".\\n       Global options retain their values and meaning even after -:, --next.\\n\\n       The following options are global: --fail-early, --libcurl,\\n       --parallel-immediate, -Z, --parallel, -#, --progress-bar, --rate, -S,\\n       --show-error, --stderr, --styled-output, --trace-ascii, --trace-config,\\n       --trace-ids, --trace-time, --trace and -v, --verbose.\\n\\n       --abstract-unix-socket <path>\\n              (HTTP) Connect through an abstract Unix domain socket, instead\\n              of using the network.  Note: netstat shows the path of an\\n              abstract socket prefixed with \\'@\\', however the <path> argument\\n              should not have this leading character.',\n",
       " 'If --abstract-unix-socket is provided several times, the last\\n              set value is used.\\n\\n              Example:\\n               curl --abstract-unix-socket socketpath https://example.com\\n\\n              See also --unix-socket. Added in 7.53.0.\\n\\n       --alt-svc <file name>\\n              (HTTPS) This option enables the alt-svc parser in curl. If the\\n              file name points to an existing alt-svc cache file, that gets\\n              used. After a completed transfer, the cache is saved to the file\\n              name again if it has been modified.\\n\\n              Specify a \"\" file name (zero length) to avoid loading/saving and\\n              make curl just handle the cache in memory.\\n\\n              If this option is used several times, curl loads contents from\\n              all the files but the last one is used for saving.\\n\\n              --alt-svc can be used several times in a command line\\n\\n              Example:\\n               curl --alt-svc svc.txt https://example.com\\n\\n              See also --resolve and --connect-to. Added in 7.64.1.\\n\\n       --anyauth\\n              (HTTP) Tells curl to figure out authentication method by itself,\\n              and use the most secure one the remote site claims to support.\\n              This is done by first doing a request and checking the\\n              response-headers, thus possibly inducing an extra network\\n              round-trip. This is used instead of setting a specific\\n              authentication method, which you can do with --basic, --digest,\\n              --ntlm, and --negotiate.\\n\\n              Using --anyauth is not recommended if you do uploads from stdin,\\n              since it may require data to be sent twice and then the client\\n              must be able to rewind. If the need should arise when uploading\\n              from stdin, the upload operation fails.\\n\\n              Used together with -u, --user.\\n\\n              Providing --anyauth multiple times has no extra effect.',\n",
       " 'Example:\\n               curl --anyauth --user me:pwd https://example.com\\n\\n              See also --proxy-anyauth, --basic and --digest.\\n\\n       -a, --append\\n              (FTP SFTP) When used in an upload, this option makes curl append\\n              to the target file instead of overwriting it. If the remote file\\n              does not exist, it is created. Note that this flag is ignored by\\n              some SFTP servers (including OpenSSH).\\n\\n              Providing -a, --append multiple times has no extra effect.\\n              Disable it again with --no-append.\\n\\n              Example:\\n               curl --upload-file local --append ftp://example.com/\\n\\n              See also -r, --range and -C, --continue-at.\\n\\n       --aws-sigv4 <provider1[:provider2[:region[:service]]]>\\n              Use AWS V4 signature authentication in the transfer.\\n\\n              The provider argument is a string that is used by the algorithm\\n              when creating outgoing authentication headers.\\n\\n              The region argument is a string that points to a geographic area\\n              of a resources collection (region-code) when the region name is\\n              omitted from the endpoint.\\n\\n              The service argument is a string that points to a function\\n              provided by a cloud (service-code) when the service name is\\n              omitted from the endpoint.\\n\\n              If --aws-sigv4 is provided several times, the last set value is\\n              used.\\n\\n              Example:\\n               curl --aws-sigv4 \"aws:amz:us-east-2:es\" --user \"key:secret\" https://example.com\\n\\n              See also --basic and -u, --user. Added in 7.75.0.',\n",
       " \"--basic\\n              (HTTP) Tells curl to use HTTP Basic authentication with the\\n              remote host. This is the default and this option is usually\\n              pointless, unless you use it to override a previously set option\\n              that sets a different authentication method (such as --ntlm,\\n              --digest, or --negotiate).\\n\\n              Used together with -u, --user.\\n\\n              Providing --basic multiple times has no extra effect.\\n\\n              Example:\\n               curl -u name:password --basic https://example.com\\n\\n              See also --proxy-basic.\\n\\n       --ca-native\\n              (TLS) Tells curl to use the CA store from the native operating\\n              system to verify the peer. By default, curl otherwise uses a CA\\n              store provided in a single file or directory, but when using\\n              this option it interfaces the operating system's own vault.\\n\\n              This option only works for curl on Windows when built to use\\n              OpenSSL. When curl on Windows is built to use Schannel, this\\n              feature is implied and curl then only uses the native CA store.\\n\\n              curl built with wolfSSL also supports this option (added in\\n              8.3.0).\\n\\n              Providing --ca-native multiple times has no extra effect.\\n              Disable it again with --no-ca-native.\\n\\n              Example:\\n               curl --ca-native https://example.com\\n\\n              See also --cacert, --capath and -k, --insecure. Added in 8.2.0.\\n\\n       --cacert <file>\\n              (TLS) Tells curl to use the specified certificate file to verify\\n              the peer. The file may contain multiple CA certificates. The\\n              certificate(s) must be in PEM format. Normally curl is built to\\n              use a default file for this, so this option is typically used to\\n              alter that default file.\",\n",
       " \"curl recognizes the environment variable named 'CURL_CA_BUNDLE'\\n              if it is set, and uses the given path as a path to a CA cert\\n              bundle. This option overrides that variable.\\n\\n              The windows version of curl automatically looks for a CA certs\\n              file named 'curl-ca-bundle.crt', either in the same directory as\\n              curl.exe, or in the Current Working Directory, or in any folder\\n              along your PATH.\\n\\n              (iOS and macOS only) If curl is built against Secure Transport,\\n              then this option is supported for backward compatibility with\\n              other SSL engines, but it should not be set. If the option is\\n              not set, then curl uses the certificates in the system and user\\n              Keychain to verify the peer, which is the preferred method of\\n              verifying the peer's certificate chain.\\n\\n              (Schannel only) This option is supported for Schannel in Windows\\n              7 or later (added in 7.60.0). This option is supported for\\n              backward compatibility with other SSL engines; instead it is\\n              recommended to use Windows' store of root certificates (the\\n              default for Schannel).\\n\\n              If --cacert is provided several times, the last set value is\\n              used.\\n\\n              Example:\\n               curl --cacert CA-file.txt https://example.com\\n\\n              See also --capath and -k, --insecure.\"]"
      ]
     },
     "execution_count": 4,
     "metadata": {},
     "output_type": "execute_result"
    }
   ],
   "source": [
    "# Add knowledge from a text file\n",
    "from extract_text import file_chunks\n",
    "\n",
    "\n",
    "text_file_path = './man_curl.txt'\n",
    "texts = file_chunks(text_file_path)\n",
    "texts[:10]"
   ]
  },
  {
   "cell_type": "code",
   "execution_count": 7,
   "metadata": {},
   "outputs": [
    {
     "name": "stdout",
     "output_type": "stream",
     "text": [
      "Extracting 247\n"
     ]
    },
    {
     "data": {
      "text/plain": [
       "['No part of this publication may be reproduced without written permission.This publication includes the latest production information available before printing. Honda\\nMotor Co., Ltd. reserves the right to make changes at any time without notice and withoutincurring any obligation.This manual should be considered a permanent part of the motorcycle and should remain\\nwith the motorcycle when it is resold.\\n2003 Honda Motor Co., Ltd.03/04/26 13:33:25 31MBZ600_001',\n",
       " '2004\\nHonda CB600F599OWNER’S MANUAL03/04/26 13:33:28 31MBZ600_002',\n",
       " 'ʵIntroduction\\nIntroductionCongratulations on choosing your Honda\\nmotorcycle.\\nWhen you own a Honda, you’re part of a\\nworldwide family of satisfied customers\\npeople who appreciate Honda’s\\nreputation for building quality into everyproduct.\\nBefore riding, take time to get acquainted\\nwith your motorcycle and how it works.To protect your investment, we urge youto take responsibility for keeping yourmotorcycle well maintained. Scheduledservice is a must, of course. But it’s just asimportant to observe the break-inguidelines, and perform all pre-ride andother periodic checks detailed in thismanual.We also recommend that you read this\\nowner’s manual before you ride. It’s fullof facts, instructions, safety information,and helpful tips. To make it easy to use,the manual contains a detailed list oftopics at the beginning of each section,and both an in-depth table of contents andan index at the back of the book.\\nAs you read this manual, you will find\\ninformation that is preceded by a\\nsymbol. This information is\\nintended to help you avoid damage to yourHonda, other property, or the environment.03/04/26 13:33:36 31MBZ600_003',\n",
       " 'Introduction\\nIntroductionWARNING:Read the Warranties Booklet (page )\\nthoroughly so you understand thecoverages that protect your new Hondaand are aware of your rights andresponsibilities.\\nIf you have any questions, or if you ever\\nneed special service or repairs, rememberthat your Honda dealer knows yourmotorcycle best and is dedicated to yourcomplete satisfaction.\\nPlease report any change of address or\\nownership to your Honda dealer so wewill be able to contact you concerningimportant production information.This product contains or\\nemits chemicals known to the State ofCalifornia to cause cancer and birthdefects or other reproductive harm.California Proposition 65 WarningYou may also want to visit our website at\\nwww.honda.com.\\nHappy riding!213\\n03/04/26 13:33:44 31MBZ600_004',\n",
       " 'A Few Words About Safety\\nSafety MessagesSafety Labels\\nSafety Messages\\nDANGER, WARNING, CAUTIONYour safety, and the safety of others, is very important. And operating this motorcycle safely\\nis an important responsibility.\\nTo help you make informed decisions about safety, we have provided operating procedures\\nand other information on labels and in this manual. This information alerts you to potentialhazards that could hurt you or others.\\nOf course, it is not practical or possible to warn you about all hazards associated with\\noperating or maintaining a motorcycle. You must use your own good judgment.\\nYou will find important safety information in a variety of forms, including:\\n–– on the motorcycle.\\n–– preceded by a safety alert symbol and one of three signal words:\\nor .\\nThese signal words mean:03/04/26 13:33:49 31MBZ600_005',\n",
       " 'You WILL be KILLED or SERIOUSLY HURT if you\\ndon’t follow instructions.\\nYou CAN be KILLED or SERIOUSLY HURT if you don’t\\nfollow instructions.\\nYou CAN be HURT if you don’t follow instructions.A Few Words About Safety\\nSafety MessagesSafety HeadingsSafety SectionInstructions–– such as Important Safety Reminders or Important Safety Precautions.\\n–– such as Motorcycle Safety.\\n–– how to use this motorcycle correctly and safely.\\nThis entire manual is filled with important safety information –– please read it carefully.03/04/26 13:33:55 31MBZ600_006',\n",
       " 'Contents\\nContents.............................. Motorcycle Safety .\\n.................... Instruments & Controls ...................................... Before Riding .\\n................ Basic Operation & Riding .1\\n927\\n39These pages give an overview of the\\ncontents of your owner’s manual. The firstpage of each section lists the topicscovered in that section.The importance of wearing a helmet\\nand other protective gear, how to makesure you and your motorcycle are readyto ride, and important information aboutloading.\\nImportant safety information you\\nshould know, plus a look at the safety-related labels on your motorcycle.\\nThe location and function of indicators,\\ngauges, and controls on yourmotorcycle and operating instructionsfor various controls and features.How to start and stop the engine, shift\\ngears, and brake. Also, ridingprecautions and important informationabout riding with a passenger or cargo.03/04/26 13:34:05 31MBZ600_007',\n",
       " 'Contents\\nContents........ ‘‘Reporting Safety Defects’’ .\\nQuick Reference...................... Servicing Your Honda .\\n....... Taking Care of the Unexpected ....................... Technical Information .\\n..................... Consumer Information .\\n.............................. Table of Contents .\\n.................................................... Index ....................................................... Tips .57\\n149\\n157187\\n209\\n218\\n220\\n224Why your motorcycle needs regular\\nmaintenance, what you need to knowbefore servicing your Honda, an ownermaintenance schedule, and instructionsfor specific maintenance andadjustment items.\\nHow to store and transport your\\nmotorcycle and how to be anenvironmentally-responsible rider.\\nWhat to do if you have a flat tire, your\\nengine won’t start, etc.ID numbers, technical specifications,\\nand other technical facts.\\nInformation on warranties, emission\\ncontrols, how to get Honda servicemanuals, and...\\nSequential listing of topics in this\\nowner’s manual.\\nHandy facts about fuel, engine oil, tire\\nsizes, and air pressures.03/04/26 13:34:18 31MBZ600_008',\n",
       " '03/04/26 13:34:20 31MBZ600_009',\n",
       " '1Motorcycle Safety\\nMotorcycle SafetyThis section presents some of the most\\nimportant information andrecommendations to help you ride yourmotorcycle safely. Please take a fewmoments to read these pages. This sectionalso includes information about thelocation of safety labels on yourmotorcycle.................. Important Safety Information . 2\\n.................. Accessories & Modifications . 5\\n........................................... Safety Labels . 703/04/26 13:34:25 31MBZ600_010']"
      ]
     },
     "execution_count": 7,
     "metadata": {},
     "output_type": "execute_result"
    }
   ],
   "source": [
    "# Add knowledgebase from a PDF\n",
    "from extract_pdf import extract_page_texts\n",
    "pdf_path = 'pdf_path'\n",
    "texts = extract_page_texts(pdf_path)\n",
    "texts[:10]"
   ]
  },
  {
   "cell_type": "code",
   "execution_count": 5,
   "metadata": {},
   "outputs": [],
   "source": [
    "from chromadb.api.client import Collection\n",
    "\n",
    "def add_knowledge(collection: Collection, items: list[str], ids: list[str]):\n",
    "    collection.add(\n",
    "        documents=items,\n",
    "        ids=ids,\n",
    "    )"
   ]
  },
  {
   "cell_type": "code",
   "execution_count": 6,
   "metadata": {},
   "outputs": [],
   "source": [
    "ids = [f'page-{index + 1}' for index in range(0, len(texts))]\n",
    "add_knowledge(test_collection, texts, ids)"
   ]
  },
  {
   "cell_type": "code",
   "execution_count": 7,
   "metadata": {},
   "outputs": [],
   "source": [
    "from chromadb.api.client import QueryResult\n",
    "\n",
    "def print_results(results: QueryResult):\n",
    "    print(f'Found in ids {results[\"ids\"]}\\n')\n",
    "    print(f'Documents: \\n')\n",
    "    for documents in results['documents']:\n",
    "        for document in documents:\n",
    "            print(f'{document}\\n')"
   ]
  },
  {
   "cell_type": "code",
   "execution_count": 9,
   "metadata": {},
   "outputs": [
    {
     "name": "stdout",
     "output_type": "stream",
     "text": [
      "Found in ids [['page-47', 'page-48', 'page-103']]\n",
      "\n",
      "Documents: \n",
      "\n",
      "You may specify any number of extra headers. Note that if you\n",
      "              should add a custom header that has the same name as one of the\n",
      "              internal ones curl would use, your externally set header is used\n",
      "              instead of the internal one. This allows you to make even\n",
      "              trickier stuff than curl would normally do. You should not\n",
      "              replace internally set headers without knowing perfectly well\n",
      "              what you are doing. Remove an internal header by giving a\n",
      "              replacement without content on the right side of the colon, as\n",
      "              in: -H \"Host:\". If you send the custom header with no-value then\n",
      "              its header must be terminated with a semicolon, such as -H\n",
      "              \"X-Custom-Header;\" to send \"X-Custom-Header:\".\n",
      "\n",
      "              curl makes sure that each header you add/replace is sent with\n",
      "              the proper end-of-line marker, you should thus not add that as a\n",
      "              part of the header content: do not add newlines or carriage\n",
      "              returns, they only mess things up for you.\n",
      "\n",
      "              This option can take an argument in @filename style, which then\n",
      "              adds a header for each line in the input file. Using @- makes\n",
      "              curl read the header file from stdin. Added in 7.55.0.\n",
      "\n",
      "              Please note that most anti-spam utilities check the presence and\n",
      "              value of several MIME mail headers: these are \"From:\", \"To:\",\n",
      "              \"Date:\" and \"Subject:\" among others and should be added with\n",
      "              this option.\n",
      "\n",
      "              You need --proxy-header to send custom headers intended for an\n",
      "              HTTP proxy. Added in 7.37.0.\n",
      "\n",
      "              Passing on a \"Transfer-Encoding: chunked\" header when doing an\n",
      "              HTTP request with a request body, makes curl send the data using\n",
      "              chunked encoding.\n",
      "\n",
      "WARNING: headers set with this option are set in all HTTP\n",
      "              requests - even after redirects are followed, like when told\n",
      "              with -L, --location. This can lead to the header being sent to\n",
      "              other hosts than the original host, so sensitive headers should\n",
      "              be used with caution combined with following redirects.\n",
      "\n",
      "              -H, --header can be used several times in a command line\n",
      "\n",
      "              Examples:\n",
      "               curl -H \"X-First-Name: Joe\" https://example.com\n",
      "               curl -H \"User-Agent: yes-please/2000\" https://example.com\n",
      "               curl -H \"Host:\" https://example.com\n",
      "               curl -H @headers.txt https://example.com\n",
      "\n",
      "              See also -A, --user-agent and -e, --referer.\n",
      "\n",
      "       -h, --help <category>\n",
      "              Usage help. This lists all curl command line options within the\n",
      "              given category.\n",
      "\n",
      "              If no argument is provided, curl displays only the most\n",
      "              important command line arguments.\n",
      "\n",
      "              For category all, curl displays help for all options.\n",
      "\n",
      "              If category is specified, curl displays all available help\n",
      "              categories.\n",
      "\n",
      "              Example:\n",
      "               curl --help all\n",
      "\n",
      "              See also -v, --verbose.\n",
      "\n",
      "       --hostpubmd5 <md5>\n",
      "              (SFTP SCP) Pass a string containing 32 hexadecimal digits. The\n",
      "              string should be the 128 bit MD5 checksum of the remote host's\n",
      "              public key, curl refuses the connection with the host unless the\n",
      "              md5sums match.\n",
      "\n",
      "              If --hostpubmd5 is provided several times, the last set value is\n",
      "              used.\n",
      "\n",
      "              Example:\n",
      "               curl --hostpubmd5 e5c1c49020640a5ab0f2034854c321a8 sftp://example.com/\n",
      "\n",
      "              See also --hostpubsha256.\n",
      "\n",
      "HTTP           Specifies a custom request method to use when\n",
      "                             communicating with the HTTP server. The specified\n",
      "                             request method is used instead of the method\n",
      "                             otherwise used (which defaults to GET). Read the\n",
      "                             HTTP 1.1 specification for details and\n",
      "                             explanations. Common additional HTTP requests\n",
      "                             include PUT and DELETE, but related technologies\n",
      "                             like WebDAV offers PROPFIND, COPY, MOVE and more.\n",
      "\n",
      "                             Normally you do not need this option. All sorts\n",
      "                             of GET, HEAD, POST and PUT requests are rather\n",
      "                             invoked by using dedicated command line options.\n",
      "\n",
      "                             This option only changes the actual word used in\n",
      "                             the HTTP request, it does not alter the way curl\n",
      "                             behaves. So for example if you want to make a\n",
      "                             proper HEAD request, using -X HEAD does not\n",
      "                             suffice. You need to use the -I, --head option.\n",
      "\n",
      "                             The method string you set with -X, --request is\n",
      "                             used for all requests, which if you for example\n",
      "                             use -L, --location may cause unintended\n",
      "                             side-effects when curl does not change request\n",
      "                             method according to the HTTP 30x response codes -\n",
      "                             and similar.\n",
      "\n",
      "              FTP            Specifies a custom FTP command to use instead of\n",
      "                             LIST when doing file lists with FTP.\n",
      "\n",
      "              POP3           Specifies a custom POP3 command to use instead of\n",
      "                             LIST or RETR.\n",
      "\n"
     ]
    }
   ],
   "source": [
    "results = test_collection.query(\n",
    "    query_texts=[\"How do I add HTTP headers to a POST request in curl?\"],\n",
    "    n_results=3\n",
    ")\n",
    "print_results(results)"
   ]
  }
 ],
 "metadata": {
  "kernelspec": {
   "display_name": ".venv",
   "language": "python",
   "name": "python3"
  },
  "language_info": {
   "codemirror_mode": {
    "name": "ipython",
    "version": 3
   },
   "file_extension": ".py",
   "mimetype": "text/x-python",
   "name": "python",
   "nbconvert_exporter": "python",
   "pygments_lexer": "ipython3",
   "version": "3.11.5"
  }
 },
 "nbformat": 4,
 "nbformat_minor": 2
}
